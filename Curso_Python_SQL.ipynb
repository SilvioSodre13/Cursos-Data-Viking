{
  "nbformat": 4,
  "nbformat_minor": 0,
  "metadata": {
    "colab": {
      "name": "Curso_Python_SQL",
      "provenance": [],
      "collapsed_sections": [],
      "authorship_tag": "ABX9TyNs6+RrGrshgVOW54zmE9dp",
      "include_colab_link": true
    },
    "kernelspec": {
      "name": "python3",
      "display_name": "Python 3"
    },
    "language_info": {
      "name": "python"
    }
  },
  "cells": [
    {
      "cell_type": "markdown",
      "metadata": {
        "id": "view-in-github",
        "colab_type": "text"
      },
      "source": [
        "<a href=\"https://colab.research.google.com/github/SilvioSodre13/Cursos-Data-Viking/blob/main/Curso_Python_SQL.ipynb\" target=\"_parent\"><img src=\"https://colab.research.google.com/assets/colab-badge.svg\" alt=\"Open In Colab\"/></a>"
      ]
    },
    {
      "cell_type": "code",
      "execution_count": null,
      "metadata": {
        "id": "9PnTMgZzw0pz"
      },
      "outputs": [],
      "source": [
        "# Importando a biblioteca\n",
        "\n",
        "import sqlite3"
      ]
    },
    {
      "cell_type": "code",
      "source": [
        "# Criar um banco de dados\n",
        "Conexao = sqlite3.connect(\"Banco_Dados\")\n"
      ],
      "metadata": {
        "id": "S1IRVMsgyuBk"
      },
      "execution_count": null,
      "outputs": []
    },
    {
      "cell_type": "code",
      "source": [
        "# Apontar para o banco de dados\n",
        "\n",
        "Cursor = Conexao.cursor()\n"
      ],
      "metadata": {
        "id": "QojyeyLmzw6l"
      },
      "execution_count": null,
      "outputs": []
    },
    {
      "cell_type": "markdown",
      "source": [
        "1. Create Table \n"
      ],
      "metadata": {
        "id": "GsVd8SvunkKE"
      }
    },
    {
      "cell_type": "code",
      "source": [
        "#Criando uma tabela\n",
        "Cursor.execute (\n",
        "    'CREATE TABLE Minha_Tabela (Data text, Nome text, Idade real )'\n",
        "    )\n",
        "\n",
        "#Fazer um commit\n",
        "\n",
        "Conexao.commit ()\n",
        "\n"
      ],
      "metadata": {
        "id": "s2byvYIzokym"
      },
      "execution_count": null,
      "outputs": []
    },
    {
      "cell_type": "markdown",
      "source": [
        "2. INSERT INTO\n"
      ],
      "metadata": {
        "id": "vubJcTX8sPkD"
      }
    },
    {
      "cell_type": "code",
      "source": [
        "#Inserindo Valores\n",
        "\n",
        "Cursor.execute ('INSERT INTO Minha_Tabela VALUES (\"01/01/2021\", \"Odemir\", \"30\") ')"
      ],
      "metadata": {
        "colab": {
          "base_uri": "https://localhost:8080/"
        },
        "id": "f6g0Sf5v201Z",
        "outputId": "75152848-42ed-437c-fc4d-4745fd75d827"
      },
      "execution_count": null,
      "outputs": [
        {
          "output_type": "execute_result",
          "data": {
            "text/plain": [
              "<sqlite3.Cursor at 0x7fb3ef271110>"
            ]
          },
          "metadata": {},
          "execution_count": 5
        }
      ]
    },
    {
      "cell_type": "code",
      "source": [
        "Cursor.execute ('INSERT INTO Minha_Tabela VALUES (\"05/01/2021\", \"Lucas\", \"30\") ')"
      ],
      "metadata": {
        "colab": {
          "base_uri": "https://localhost:8080/"
        },
        "id": "mhBHOwx84fGE",
        "outputId": "63daa3dd-1ab3-499a-b00e-2f4142f05059"
      },
      "execution_count": null,
      "outputs": [
        {
          "output_type": "execute_result",
          "data": {
            "text/plain": [
              "<sqlite3.Cursor at 0x7fb3ef271110>"
            ]
          },
          "metadata": {},
          "execution_count": 6
        }
      ]
    },
    {
      "cell_type": "code",
      "source": [
        "#Import Numeros Aleatórios\n",
        "\n",
        "import random\n",
        "\n"
      ],
      "metadata": {
        "id": "NcFyGYzU4rUs"
      },
      "execution_count": null,
      "outputs": []
    },
    {
      "cell_type": "code",
      "source": [
        "\n",
        "for Loop in range (10):\n",
        "\n",
        "  #Gerando um numero aleatorio\n",
        "    Numero = random.randint(10,20)\n",
        "  #Inserir informação na minha tabela\n",
        "    Cursor.execute (f'INSERT INTO Minha_Tabela VALUES (\"05/01/2021\", \"Lucas\", {Numero})')\n",
        "\n",
        "\n",
        "  \n"
      ],
      "metadata": {
        "id": "0tKRCquh49gU"
      },
      "execution_count": null,
      "outputs": []
    },
    {
      "cell_type": "markdown",
      "source": [
        "3. Select Table\n"
      ],
      "metadata": {
        "id": "k-ZF80qVH7Xp"
      }
    },
    {
      "cell_type": "code",
      "source": [
        "#Query de consulta - Todas as colunas\n",
        "\n",
        "Consulta = Cursor.execute('SELECT * FROM Minha_Tabela').fetchall()\n",
        "print(Consulta)"
      ],
      "metadata": {
        "colab": {
          "base_uri": "https://localhost:8080/"
        },
        "id": "An4w8k7qIDUv",
        "outputId": "f99a0f6d-7ad0-4220-ca43-63a57d36fd2b"
      },
      "execution_count": null,
      "outputs": [
        {
          "output_type": "stream",
          "name": "stdout",
          "text": [
            "[('01/01/2021', 'Odemir', 30.0), ('05/01/2021', 'Lucas', 30.0), ('05/01/2021', 'Lucas', 14.0), ('05/01/2021', 'Lucas', 14.0), ('05/01/2021', 'Lucas', 16.0), ('05/01/2021', 'Lucas', 19.0), ('05/01/2021', 'Lucas', 13.0), ('05/01/2021', 'Lucas', 12.0), ('05/01/2021', 'Lucas', 14.0), ('05/01/2021', 'Lucas', 14.0), ('05/01/2021', 'Lucas', 15.0), ('05/01/2021', 'Lucas', 13.0)]\n"
          ]
        }
      ]
    },
    {
      "cell_type": "code",
      "source": [
        "#Query de consulta - colunas especificas\n",
        "Consulta = Cursor.execute('SELECT  Nome , Idade FROM Minha_Tabela').fetchall()\n",
        "#Loop\n",
        "for Linha in Consulta:\n",
        "  print(Linha)\n"
      ],
      "metadata": {
        "colab": {
          "base_uri": "https://localhost:8080/"
        },
        "id": "XGib_RRYJjgh",
        "outputId": "6df78dd6-a6f2-43c2-e737-b1fcaec2b108"
      },
      "execution_count": null,
      "outputs": [
        {
          "output_type": "stream",
          "name": "stdout",
          "text": [
            "('Odemir', 30.0)\n",
            "('Lucas', 30.0)\n",
            "('Lucas', 14.0)\n",
            "('Lucas', 14.0)\n",
            "('Lucas', 16.0)\n",
            "('Lucas', 19.0)\n",
            "('Lucas', 13.0)\n",
            "('Lucas', 12.0)\n",
            "('Lucas', 14.0)\n",
            "('Lucas', 14.0)\n",
            "('Lucas', 15.0)\n",
            "('Lucas', 13.0)\n"
          ]
        }
      ]
    },
    {
      "cell_type": "code",
      "source": [
        ""
      ],
      "metadata": {
        "id": "PJqq-aQQJuu5"
      },
      "execution_count": null,
      "outputs": []
    },
    {
      "cell_type": "markdown",
      "source": [
        "4.Where\n",
        "\n"
      ],
      "metadata": {
        "id": "eCUb6uOULLFI"
      }
    },
    {
      "cell_type": "code",
      "source": [
        ""
      ],
      "metadata": {
        "id": "KfrC238Ix-NO"
      },
      "execution_count": null,
      "outputs": []
    },
    {
      "cell_type": "code",
      "source": [
        "# Query usando o Igual '='\n",
        "Consulta = Cursor.execute(\n",
        "    ''' \n",
        "    SELECT * FROM Minha_Tabela\n",
        "    WHERE Nome = 'Odemir'\n",
        "    '''\n",
        ").fetchall()\n",
        "print(Consulta)"
      ],
      "metadata": {
        "colab": {
          "base_uri": "https://localhost:8080/"
        },
        "id": "BUtrGq7TLQXh",
        "outputId": "ed0bd50b-a3de-466d-921e-f951825bd7e2"
      },
      "execution_count": null,
      "outputs": [
        {
          "output_type": "stream",
          "name": "stdout",
          "text": [
            "[('01/01/2021', 'Odemir', 30.0)]\n"
          ]
        }
      ]
    },
    {
      "cell_type": "code",
      "source": [
        "# Query usando o Igual '>'\n",
        "Consulta = Cursor.execute(\n",
        "    ''' \n",
        "    SELECT * FROM Minha_Tabela\n",
        "    WHERE idade > 25\n",
        "    '''\n",
        ").fetchall()\n",
        "print(Consulta)"
      ],
      "metadata": {
        "colab": {
          "base_uri": "https://localhost:8080/"
        },
        "outputId": "6f6570c2-2bd9-4bdc-e577-ebc1e43a0b84",
        "id": "tRxkDJIbNCPm"
      },
      "execution_count": null,
      "outputs": [
        {
          "output_type": "stream",
          "name": "stdout",
          "text": [
            "[('01/01/2021', 'Odemir', 30.0), ('05/01/2021', 'Lucas', 30.0)]\n"
          ]
        }
      ]
    },
    {
      "cell_type": "code",
      "source": [
        "# Query usando o Igual '<'\n",
        "Consulta = Cursor.execute(\n",
        "    ''' \n",
        "    SELECT * FROM Minha_Tabela\n",
        "    WHERE idade < 25\n",
        "    '''\n",
        ").fetchall()\n",
        "print(Consulta)"
      ],
      "metadata": {
        "colab": {
          "base_uri": "https://localhost:8080/"
        },
        "id": "RsRrQ_Y-NVIG",
        "outputId": "1c54d190-e293-4b0b-e7a1-3f0d1a5e4563"
      },
      "execution_count": null,
      "outputs": [
        {
          "output_type": "stream",
          "name": "stdout",
          "text": [
            "[('05/01/2021', 'Lucas', 14.0), ('05/01/2021', 'Lucas', 14.0), ('05/01/2021', 'Lucas', 16.0), ('05/01/2021', 'Lucas', 19.0), ('05/01/2021', 'Lucas', 13.0), ('05/01/2021', 'Lucas', 12.0), ('05/01/2021', 'Lucas', 14.0), ('05/01/2021', 'Lucas', 14.0), ('05/01/2021', 'Lucas', 15.0), ('05/01/2021', 'Lucas', 13.0)]\n"
          ]
        }
      ]
    },
    {
      "cell_type": "code",
      "source": [
        "# Query usando o Igual '<='\n",
        "Consulta = Cursor.execute(\n",
        "    ''' \n",
        "    SELECT * FROM Minha_Tabela\n",
        "    WHERE idade <= 25\n",
        "    '''\n",
        ").fetchall()\n",
        "print(Consulta)"
      ],
      "metadata": {
        "colab": {
          "base_uri": "https://localhost:8080/"
        },
        "id": "1g2B-ychNXj2",
        "outputId": "c0cd7f77-d55b-4c6b-e759-a1b7ef0e450c"
      },
      "execution_count": null,
      "outputs": [
        {
          "output_type": "stream",
          "name": "stdout",
          "text": [
            "[('05/01/2021', 'Lucas', 14.0), ('05/01/2021', 'Lucas', 14.0), ('05/01/2021', 'Lucas', 16.0), ('05/01/2021', 'Lucas', 19.0), ('05/01/2021', 'Lucas', 13.0), ('05/01/2021', 'Lucas', 12.0), ('05/01/2021', 'Lucas', 14.0), ('05/01/2021', 'Lucas', 14.0), ('05/01/2021', 'Lucas', 15.0), ('05/01/2021', 'Lucas', 13.0)]\n"
          ]
        }
      ]
    },
    {
      "cell_type": "code",
      "source": [
        " #Query usando o Igual '<>'\n",
        "Consulta = Cursor.execute(\n",
        "    ''' \n",
        "    SELECT * FROM Minha_Tabela\n",
        "    WHERE Nome <> 'Odemir'\n",
        "    '''\n",
        ").fetchall()\n",
        "for Linha in Consulta:\n",
        "  print(Linha)"
      ],
      "metadata": {
        "colab": {
          "base_uri": "https://localhost:8080/"
        },
        "id": "XKRReivrOu6f",
        "outputId": "7a8385cf-36d7-46d8-c196-976ef8c3d3bc"
      },
      "execution_count": null,
      "outputs": [
        {
          "output_type": "stream",
          "name": "stdout",
          "text": [
            "('05/01/2021', 'Lucas', 30.0)\n",
            "('05/01/2021', 'Lucas', 14.0)\n",
            "('05/01/2021', 'Lucas', 14.0)\n",
            "('05/01/2021', 'Lucas', 16.0)\n",
            "('05/01/2021', 'Lucas', 19.0)\n",
            "('05/01/2021', 'Lucas', 13.0)\n",
            "('05/01/2021', 'Lucas', 12.0)\n",
            "('05/01/2021', 'Lucas', 14.0)\n",
            "('05/01/2021', 'Lucas', 14.0)\n",
            "('05/01/2021', 'Lucas', 15.0)\n",
            "('05/01/2021', 'Lucas', 13.0)\n"
          ]
        }
      ]
    },
    {
      "cell_type": "markdown",
      "source": [
        "5. BETWEEN"
      ],
      "metadata": {
        "id": "lklbapWhznLR"
      }
    },
    {
      "cell_type": "code",
      "source": [
        "#Query usando o BETWEEN\n",
        "Consulta = Cursor.execute(\n",
        "    '''\n",
        "     SELECT * FROM Minha_Tabela\n",
        "     WHERE idade BETWEEN 15 and 21\n",
        "     '''\n",
        ").fetchall()\n",
        "for Linha in Consulta :\n",
        "  print(Linha)"
      ],
      "metadata": {
        "colab": {
          "base_uri": "https://localhost:8080/"
        },
        "id": "4aKA29XSz3ce",
        "outputId": "1bb89b36-560e-48d9-a8fd-a5707402f844"
      },
      "execution_count": null,
      "outputs": [
        {
          "output_type": "stream",
          "name": "stdout",
          "text": [
            "('05/01/2021', 'Lucas', 16.0)\n",
            "('05/01/2021', 'Lucas', 19.0)\n",
            "('05/01/2021', 'Lucas', 15.0)\n"
          ]
        }
      ]
    },
    {
      "cell_type": "markdown",
      "source": [
        "6. LIKE\n"
      ],
      "metadata": {
        "id": "pKlsAtC6_mVd"
      }
    },
    {
      "cell_type": "code",
      "source": [
        "#Query usando Like algo que comece com\n",
        "Consulta = Cursor.execute(\n",
        "    '''\n",
        "    SELECT * FROM Minha_Tabela\n",
        "    WHERE Nome LIKE 'O%'\n",
        "\n",
        "''').fetchall()\n",
        "\n",
        "for Linha in Consulta:\n",
        "  print(Linha)\n",
        "    \n",
        "     "
      ],
      "metadata": {
        "colab": {
          "base_uri": "https://localhost:8080/"
        },
        "id": "Y9wHXqxV_tKN",
        "outputId": "310fb5d5-5e69-42dc-f9bc-5a86bc7519f1"
      },
      "execution_count": null,
      "outputs": [
        {
          "output_type": "stream",
          "name": "stdout",
          "text": [
            "('01/01/2021', 'Odemir', 30.0)\n"
          ]
        }
      ]
    },
    {
      "cell_type": "code",
      "source": [
        "#Query usando LIKE procurando algo que termine com\n",
        "\n",
        "Consulta = Cursor.execute (\n",
        "    '''\n",
        "    SELECT * FROM Minha_Tabela\n",
        "    WHERE Nome LIKE '%s'\n",
        "\n",
        "'''\n",
        ")\n",
        "for Linha in Consulta:\n",
        "  print(Linha)\n"
      ],
      "metadata": {
        "colab": {
          "base_uri": "https://localhost:8080/"
        },
        "id": "THl_OPRcBqPG",
        "outputId": "7ce2abfa-78a7-4295-8aa2-8e7440ac117e"
      },
      "execution_count": null,
      "outputs": [
        {
          "output_type": "stream",
          "name": "stdout",
          "text": [
            "('05/01/2021', 'Lucas', 30.0)\n",
            "('05/01/2021', 'Lucas', 14.0)\n",
            "('05/01/2021', 'Lucas', 14.0)\n",
            "('05/01/2021', 'Lucas', 16.0)\n",
            "('05/01/2021', 'Lucas', 19.0)\n",
            "('05/01/2021', 'Lucas', 13.0)\n",
            "('05/01/2021', 'Lucas', 12.0)\n",
            "('05/01/2021', 'Lucas', 14.0)\n",
            "('05/01/2021', 'Lucas', 14.0)\n",
            "('05/01/2021', 'Lucas', 15.0)\n",
            "('05/01/2021', 'Lucas', 13.0)\n"
          ]
        }
      ]
    },
    {
      "cell_type": "code",
      "source": [
        "# Query usando LIKE procurando algo que tenha o padrão\n",
        "\n",
        "Consulta = Cursor.execute(\n",
        "    '''\n",
        "    SELECT * FROM Minha_Tabela\n",
        "    WHERE nome LIKE '%ucas%'\n",
        "\n",
        "'''\n",
        ").fetchall()\n",
        "\n",
        "for Linha in Consulta:\n",
        "  print(Linha)"
      ],
      "metadata": {
        "colab": {
          "base_uri": "https://localhost:8080/"
        },
        "id": "Cas-tzTzDBSY",
        "outputId": "e8cd6c6b-f812-4702-e3fb-156ca4c02f98"
      },
      "execution_count": null,
      "outputs": [
        {
          "output_type": "stream",
          "name": "stdout",
          "text": [
            "('05/01/2021', 'Lucas', 30.0)\n",
            "('05/01/2021', 'Lucas', 14.0)\n",
            "('05/01/2021', 'Lucas', 14.0)\n",
            "('05/01/2021', 'Lucas', 16.0)\n",
            "('05/01/2021', 'Lucas', 19.0)\n",
            "('05/01/2021', 'Lucas', 13.0)\n",
            "('05/01/2021', 'Lucas', 12.0)\n",
            "('05/01/2021', 'Lucas', 14.0)\n",
            "('05/01/2021', 'Lucas', 14.0)\n",
            "('05/01/2021', 'Lucas', 15.0)\n",
            "('05/01/2021', 'Lucas', 13.0)\n"
          ]
        }
      ]
    },
    {
      "cell_type": "markdown",
      "source": [
        "7. IN\n"
      ],
      "metadata": {
        "id": "So8PjBrZI4Jx"
      }
    },
    {
      "cell_type": "code",
      "source": [
        "# Query procurando algo com IN\n",
        "Consulta = Cursor.execute(\n",
        "    '''\n",
        "    SELECT*FROM Minha_tabela\n",
        "    WHERE idade IN (18,20,30)\n",
        "\n",
        "'''\n",
        ").fetchall()   \n",
        "for Lista in Consulta:\n",
        "  print(Lista)\n"
      ],
      "metadata": {
        "colab": {
          "base_uri": "https://localhost:8080/"
        },
        "id": "GrGHDdrUI8T3",
        "outputId": "b5977ac7-e160-4cc3-bdfb-7a589006821e"
      },
      "execution_count": null,
      "outputs": [
        {
          "output_type": "stream",
          "name": "stdout",
          "text": [
            "('01/01/2021', 'Odemir', 30.0)\n",
            "('05/01/2021', 'Lucas', 30.0)\n"
          ]
        }
      ]
    },
    {
      "cell_type": "code",
      "source": [
        "# Query procurando algo com IN\n",
        "Consulta = Cursor.execute(\n",
        "    '''\n",
        "    SELECT*FROM Minha_tabela\n",
        "    WHERE Nome IN ('Odemir')\n",
        "'''\n",
        ").fetchall()   \n",
        "for Lista in Consulta:\n",
        "  print(Lista)"
      ],
      "metadata": {
        "colab": {
          "base_uri": "https://localhost:8080/"
        },
        "id": "p46R-2dQKwsm",
        "outputId": "5cf1e5b8-4523-48a8-ed19-c381e703b620"
      },
      "execution_count": null,
      "outputs": [
        {
          "output_type": "stream",
          "name": "stdout",
          "text": [
            "('01/01/2021', 'Odemir', 30.0)\n"
          ]
        }
      ]
    },
    {
      "cell_type": "markdown",
      "source": [
        "8. AND , OR , NOT"
      ],
      "metadata": {
        "id": "_Xj0K5Bqde4w"
      }
    },
    {
      "cell_type": "code",
      "source": [
        "# And\n",
        "Consulta = Cursor.execute(\n",
        "    ''' \n",
        "    SELECT * FROM Minha_Tabela\n",
        "    WHERE Idade = 15 AND nome = 'Lucas'\n",
        "'''\n",
        ").fetchall()\n",
        "print(Consulta)\n"
      ],
      "metadata": {
        "colab": {
          "base_uri": "https://localhost:8080/"
        },
        "id": "abT62blVdvG6",
        "outputId": "a44ce792-115a-4c37-bc89-c134123d2dee"
      },
      "execution_count": null,
      "outputs": [
        {
          "output_type": "stream",
          "name": "stdout",
          "text": [
            "[('05/01/2021', 'Lucas', 15.0)]\n"
          ]
        }
      ]
    },
    {
      "cell_type": "code",
      "source": [
        "# OR \n",
        "Consulta = Cursor.execute(\n",
        "    '''\n",
        "    SELECT * FROM Minha_Tabela\n",
        "    WHERE Idade = 15 OR nome = 'Lucas'\n",
        "'''\n",
        ").fetchall()\n",
        "print(Consulta)\n"
      ],
      "metadata": {
        "colab": {
          "base_uri": "https://localhost:8080/"
        },
        "id": "Gcl_jlL4f2aU",
        "outputId": "bf26cdae-1cb6-4e60-9ff5-8174ad764967"
      },
      "execution_count": null,
      "outputs": [
        {
          "output_type": "stream",
          "name": "stdout",
          "text": [
            "[('05/01/2021', 'Lucas', 30.0), ('05/01/2021', 'Lucas', 14.0), ('05/01/2021', 'Lucas', 14.0), ('05/01/2021', 'Lucas', 16.0), ('05/01/2021', 'Lucas', 19.0), ('05/01/2021', 'Lucas', 13.0), ('05/01/2021', 'Lucas', 12.0), ('05/01/2021', 'Lucas', 14.0), ('05/01/2021', 'Lucas', 14.0), ('05/01/2021', 'Lucas', 15.0), ('05/01/2021', 'Lucas', 13.0)]\n"
          ]
        }
      ]
    },
    {
      "cell_type": "code",
      "source": [
        "#NOT\n",
        "Consulta = Cursor.execute(\n",
        "    '''\n",
        "    SELECT * FROM Minha_Tabela\n",
        "    WHERE NOT Nome = 'Lucas'\n",
        "\n",
        "'''\n",
        ").fetchall()\n",
        "print(Consulta)"
      ],
      "metadata": {
        "colab": {
          "base_uri": "https://localhost:8080/"
        },
        "id": "QP8BsXlpgWuf",
        "outputId": "ddb61ecb-144d-4b0a-b712-ba33bc112d6c"
      },
      "execution_count": null,
      "outputs": [
        {
          "output_type": "stream",
          "name": "stdout",
          "text": [
            "[('01/01/2021', 'Odemir', 30.0)]\n"
          ]
        }
      ]
    },
    {
      "cell_type": "code",
      "source": [
        "# Combinação de parametros AND ,OR e NOT\n",
        "\n",
        "Consulta = Cursor.execute(\n",
        "    '''\n",
        "    SELECT * FROM Minha_Tabela\n",
        "    WHERE Nome ='Lucas' AND (idade > 12  OR idade < 20 ) AND NOT idade = 15\n",
        "'''\n",
        ").fetchall()\n",
        "print (Consulta)"
      ],
      "metadata": {
        "colab": {
          "base_uri": "https://localhost:8080/"
        },
        "id": "UsrS4vmYhUyL",
        "outputId": "9c80e79f-361c-435b-a2ac-159f67f48215"
      },
      "execution_count": null,
      "outputs": [
        {
          "output_type": "stream",
          "name": "stdout",
          "text": [
            "[('05/01/2021', 'Lucas', 30.0), ('05/01/2021', 'Lucas', 14.0), ('05/01/2021', 'Lucas', 14.0), ('05/01/2021', 'Lucas', 16.0), ('05/01/2021', 'Lucas', 19.0), ('05/01/2021', 'Lucas', 13.0), ('05/01/2021', 'Lucas', 12.0), ('05/01/2021', 'Lucas', 14.0), ('05/01/2021', 'Lucas', 14.0), ('05/01/2021', 'Lucas', 13.0)]\n"
          ]
        }
      ]
    },
    {
      "cell_type": "markdown",
      "source": [
        " 9 . ORDER BY"
      ],
      "metadata": {
        "id": "7oJ6b063kKpD"
      }
    },
    {
      "cell_type": "code",
      "source": [
        "# Ordernando os valores\n",
        "\n",
        "Consulta = Cursor.execute(\n",
        "    '''\n",
        "    SELECT * FROM Minha_Tabela\n",
        "    ORDER BY idade , Nome\n",
        "'''\n",
        ").fetchall()\n",
        "\n",
        "for Linha in Consulta :\n",
        "  print (Linha)"
      ],
      "metadata": {
        "colab": {
          "base_uri": "https://localhost:8080/"
        },
        "id": "uL8EO6q_kOSA",
        "outputId": "b5078714-6f98-453c-c01c-7d87cc315ef2"
      },
      "execution_count": null,
      "outputs": [
        {
          "output_type": "stream",
          "name": "stdout",
          "text": [
            "('05/01/2021', 'Lucas', 12.0)\n",
            "('05/01/2021', 'Lucas', 13.0)\n",
            "('05/01/2021', 'Lucas', 13.0)\n",
            "('05/01/2021', 'Lucas', 14.0)\n",
            "('05/01/2021', 'Lucas', 14.0)\n",
            "('05/01/2021', 'Lucas', 14.0)\n",
            "('05/01/2021', 'Lucas', 14.0)\n",
            "('05/01/2021', 'Lucas', 15.0)\n",
            "('05/01/2021', 'Lucas', 16.0)\n",
            "('05/01/2021', 'Lucas', 19.0)\n",
            "('05/01/2021', 'Lucas', 30.0)\n",
            "('01/01/2021', 'Odemir', 30.0)\n"
          ]
        }
      ]
    },
    {
      "cell_type": "code",
      "source": [
        "#Ordernar em ordem decrescente\n",
        "Consulta  = Cursor.execute(\n",
        "    ''' \n",
        "    SELECT * FROM Minha_Tabela\n",
        "    ORDER BY idade DESC\n",
        "    '''\n",
        ").fetchall()\n",
        "for Linha in Consulta:\n",
        "  print(Linha)"
      ],
      "metadata": {
        "colab": {
          "base_uri": "https://localhost:8080/"
        },
        "id": "EAz6oxePlZ4a",
        "outputId": "69130fff-27dc-4619-c607-92231031040e"
      },
      "execution_count": null,
      "outputs": [
        {
          "output_type": "stream",
          "name": "stdout",
          "text": [
            "('01/01/2021', 'Odemir', 30.0)\n",
            "('05/01/2021', 'Lucas', 30.0)\n",
            "('05/01/2021', 'Lucas', 19.0)\n",
            "('05/01/2021', 'Lucas', 16.0)\n",
            "('05/01/2021', 'Lucas', 15.0)\n",
            "('05/01/2021', 'Lucas', 14.0)\n",
            "('05/01/2021', 'Lucas', 14.0)\n",
            "('05/01/2021', 'Lucas', 14.0)\n",
            "('05/01/2021', 'Lucas', 14.0)\n",
            "('05/01/2021', 'Lucas', 13.0)\n",
            "('05/01/2021', 'Lucas', 13.0)\n",
            "('05/01/2021', 'Lucas', 12.0)\n"
          ]
        }
      ]
    },
    {
      "cell_type": "markdown",
      "source": [
        "10 . NULL VALUES "
      ],
      "metadata": {
        "id": "LQ5lRPYHn9Ly"
      }
    },
    {
      "cell_type": "code",
      "source": [
        "# Preenchendo Valores Nulos\n",
        "Cursor.execute('INSERT INTO Minha_Tabela VALUES (\"ABC\", null , 30)')\n",
        "Cursor.execute('INSERT INTO Minha_Tabela VALUES (\"ABC\", null , null)')"
      ],
      "metadata": {
        "id": "TcWcDcSqoAsd",
        "colab": {
          "base_uri": "https://localhost:8080/"
        },
        "outputId": "23b02504-b4a8-4061-c2c5-67be71c9fc9d"
      },
      "execution_count": null,
      "outputs": [
        {
          "output_type": "execute_result",
          "data": {
            "text/plain": [
              "<sqlite3.Cursor at 0x7fb3ef271110>"
            ]
          },
          "metadata": {},
          "execution_count": 30
        }
      ]
    },
    {
      "cell_type": "code",
      "source": [
        "#Filtrando os valores nulos \n",
        "\n",
        "Consulta = Cursor.execute(\n",
        "    '''\n",
        "    SELECT * FROM Minha_Tabela\n",
        "    WHERE nome is NULL\n",
        "'''\n",
        ").fetchall()\n",
        "print(Consulta)"
      ],
      "metadata": {
        "colab": {
          "base_uri": "https://localhost:8080/"
        },
        "id": "-OtW7z27dnFK",
        "outputId": "94b5f14f-5fd3-4310-b878-f8917cbd6141"
      },
      "execution_count": null,
      "outputs": [
        {
          "output_type": "stream",
          "name": "stdout",
          "text": [
            "[('ABC', None, 30.0), ('ABC', None, 30.0), ('ABC', None, None)]\n"
          ]
        }
      ]
    },
    {
      "cell_type": "code",
      "source": [
        "#Verificando valores não nulos\n",
        "\n",
        "Consulta = Cursor.execute(\n",
        "    '''\n",
        "    SELECT * FROM Minha_Tabela\n",
        "    WHERE nome IS NOT NULL\n",
        "\n",
        "'''\n",
        ").fetchall()\n",
        "print(Consulta)"
      ],
      "metadata": {
        "colab": {
          "base_uri": "https://localhost:8080/"
        },
        "id": "_IKHbHADeYsR",
        "outputId": "7c53b5d5-c40c-4e62-f834-649ddbb95fdb"
      },
      "execution_count": null,
      "outputs": [
        {
          "output_type": "stream",
          "name": "stdout",
          "text": [
            "[('01/01/2021', 'Odemir', 30.0), ('05/01/2021', 'Lucas', 30.0), ('05/01/2021', 'Lucas', 14.0), ('05/01/2021', 'Lucas', 14.0), ('05/01/2021', 'Lucas', 16.0), ('05/01/2021', 'Lucas', 19.0), ('05/01/2021', 'Lucas', 13.0), ('05/01/2021', 'Lucas', 12.0), ('05/01/2021', 'Lucas', 14.0), ('05/01/2021', 'Lucas', 14.0), ('05/01/2021', 'Lucas', 15.0), ('05/01/2021', 'Lucas', 13.0)]\n"
          ]
        }
      ]
    },
    {
      "cell_type": "markdown",
      "source": [
        "11 . UPDATE\n"
      ],
      "metadata": {
        "id": "IyzhF4lqgfPm"
      }
    },
    {
      "cell_type": "code",
      "source": [
        "#Visualizando a tabela\n",
        "Consulta = Cursor.execute(\n",
        "    '''\n",
        "    SELECT * FROM Minha_Tabela \n",
        "'''\n",
        ").fetchall()\n",
        "for Linha in Consulta:\n",
        "  print(Linha)"
      ],
      "metadata": {
        "colab": {
          "base_uri": "https://localhost:8080/"
        },
        "id": "HU6G3bAjgkiH",
        "outputId": "529bf6e1-827d-4285-9208-014c50bc30d0"
      },
      "execution_count": null,
      "outputs": [
        {
          "output_type": "stream",
          "name": "stdout",
          "text": [
            "('01/01/2021', 'Odemir', 30.0)\n",
            "('05/01/2021', 'Lucas', 30.0)\n",
            "('05/01/2021', 'Lucas', 14.0)\n",
            "('05/01/2021', 'Lucas', 14.0)\n",
            "('05/01/2021', 'Lucas', 16.0)\n",
            "('05/01/2021', 'Lucas', 19.0)\n",
            "('05/01/2021', 'Lucas', 13.0)\n",
            "('05/01/2021', 'Lucas', 12.0)\n",
            "('05/01/2021', 'Lucas', 14.0)\n",
            "('05/01/2021', 'Lucas', 14.0)\n",
            "('05/01/2021', 'Lucas', 15.0)\n",
            "('05/01/2021', 'Lucas', 13.0)\n",
            "('ABC', None, 30.0)\n",
            "('ABC', None, 30.0)\n",
            "('ABC', None, None)\n"
          ]
        }
      ]
    },
    {
      "cell_type": "code",
      "source": [
        "#Usando Update\n",
        "\n",
        "Consulta = Cursor.execute(\n",
        "    '''\n",
        "    UPDATE  Minha_Tabela\n",
        "    SET nome = 'preenchido'\n",
        "    WHERE nome is NULL\n",
        "\n",
        "'''\n",
        ").fetchall()\n",
        "\n",
        "#Visualizando a tabela após o Update\n",
        "Consulta = Cursor.execute(\n",
        "    '''\n",
        "    SELECT * FROM Minha_Tabela\n",
        "\n",
        "'''\n",
        ").fetchall()\n",
        "for Linha in Consulta:\n",
        "  print(Linha)\n"
      ],
      "metadata": {
        "colab": {
          "base_uri": "https://localhost:8080/"
        },
        "id": "Yhc06fj_hXv-",
        "outputId": "e86f3c03-1e62-473a-b78f-f5ab4c6d7854"
      },
      "execution_count": null,
      "outputs": [
        {
          "output_type": "stream",
          "name": "stdout",
          "text": [
            "('01/01/2021', 'Odemir', 30.0)\n",
            "('05/01/2021', 'Lucas', 30.0)\n",
            "('05/01/2021', 'Lucas', 14.0)\n",
            "('05/01/2021', 'Lucas', 14.0)\n",
            "('05/01/2021', 'Lucas', 16.0)\n",
            "('05/01/2021', 'Lucas', 19.0)\n",
            "('05/01/2021', 'Lucas', 13.0)\n",
            "('05/01/2021', 'Lucas', 12.0)\n",
            "('05/01/2021', 'Lucas', 14.0)\n",
            "('05/01/2021', 'Lucas', 14.0)\n",
            "('05/01/2021', 'Lucas', 15.0)\n",
            "('05/01/2021', 'Lucas', 13.0)\n",
            "('ABC', 'preenchido', 30.0)\n",
            "('ABC', 'preenchido', 30.0)\n",
            "('ABC', 'preenchido', None)\n"
          ]
        }
      ]
    },
    {
      "cell_type": "code",
      "source": [
        "#preenchendo valores nulos na coluna data\n",
        "\n",
        "Consulta= Cursor.execute(\n",
        "    '''\n",
        "    UPDATE Minha_Tabela\n",
        "    SET idade = 'preenchido'\n",
        "    WHERE idade IS NULL\n",
        "\n",
        "'''\n",
        ").fetchall()\n",
        "\n",
        "# Visualizando a tabela\n",
        "\n",
        "Consulta = Cursor.execute(\n",
        "    '''\n",
        "    SELECT * FROM Minha_Tabela\n",
        "    '''\n",
        ").fetchall()\n",
        "\n",
        "for Linha in Consulta:\n",
        "  print(Linha)"
      ],
      "metadata": {
        "colab": {
          "base_uri": "https://localhost:8080/"
        },
        "id": "Y9yNuDMekDDu",
        "outputId": "04b6c34b-4bec-4518-98fa-fa1b52759b94"
      },
      "execution_count": null,
      "outputs": [
        {
          "output_type": "stream",
          "name": "stdout",
          "text": [
            "('01/01/2021', 'Odemir', 30.0)\n",
            "('05/01/2021', 'Lucas', 30.0)\n",
            "('05/01/2021', 'Lucas', 14.0)\n",
            "('05/01/2021', 'Lucas', 14.0)\n",
            "('05/01/2021', 'Lucas', 16.0)\n",
            "('05/01/2021', 'Lucas', 19.0)\n",
            "('05/01/2021', 'Lucas', 13.0)\n",
            "('05/01/2021', 'Lucas', 12.0)\n",
            "('05/01/2021', 'Lucas', 14.0)\n",
            "('05/01/2021', 'Lucas', 14.0)\n",
            "('05/01/2021', 'Lucas', 15.0)\n",
            "('05/01/2021', 'Lucas', 13.0)\n",
            "('ABC', 'preenchido', 30.0)\n",
            "('ABC', 'preenchido', 30.0)\n",
            "('ABC', 'preenchido', 'preenchido')\n"
          ]
        }
      ]
    },
    {
      "cell_type": "markdown",
      "source": [
        "11  DELETE "
      ],
      "metadata": {
        "id": "MIweeqUcw3QS"
      }
    },
    {
      "cell_type": "code",
      "source": [
        "# Deletando valores nulos\n",
        "Consulta = Cursor.execute(\n",
        "    '''\n",
        "    DELETE from Minha_Tabela\n",
        "    WHERE nome = 'preenchido'\n",
        "    '''\n",
        ").fetchall()\n",
        "\n",
        "#Visualizando a tabela\n",
        "\n",
        "Consulta = Cursor.execute(\n",
        "    '''\n",
        "    SELECT * FROM Minha_Tabela\n",
        "'''\n",
        ").fetchall()\n",
        "for Linha in Consulta :\n",
        "  print (Linha)"
      ],
      "metadata": {
        "colab": {
          "base_uri": "https://localhost:8080/"
        },
        "id": "ZWn3miPXw2yJ",
        "outputId": "2a7e0747-2476-43fb-c8f9-d08a235ee220"
      },
      "execution_count": null,
      "outputs": [
        {
          "output_type": "stream",
          "name": "stdout",
          "text": [
            "('01/01/2021', 'Odemir', 30.0)\n",
            "('05/01/2021', 'Lucas', 30.0)\n",
            "('05/01/2021', 'Lucas', 14.0)\n",
            "('05/01/2021', 'Lucas', 14.0)\n",
            "('05/01/2021', 'Lucas', 16.0)\n",
            "('05/01/2021', 'Lucas', 19.0)\n",
            "('05/01/2021', 'Lucas', 13.0)\n",
            "('05/01/2021', 'Lucas', 12.0)\n",
            "('05/01/2021', 'Lucas', 14.0)\n",
            "('05/01/2021', 'Lucas', 14.0)\n",
            "('05/01/2021', 'Lucas', 15.0)\n",
            "('05/01/2021', 'Lucas', 13.0)\n"
          ]
        }
      ]
    },
    {
      "cell_type": "code",
      "source": [
        "#Excluindo mais um registro Lucas 15\n",
        "Consulta = Cursor.execute(\n",
        "    '''\n",
        "    DELETE from Minha_Tabela\n",
        "    WHERE nome = 'Lucas' AND idade = 15\n",
        "'''\n",
        ").fetchall()\n",
        "\n",
        "# Visualizando a tabela\n",
        "\n",
        "Consulta = Cursor.execute(\n",
        "    '''\n",
        "    SELECT * FROM Minha_Tabela\n",
        "    \n",
        "'''\n",
        ").fetchall()\n",
        "for Lista in Consulta :\n",
        "  print(Lista)\n",
        "\n"
      ],
      "metadata": {
        "colab": {
          "base_uri": "https://localhost:8080/"
        },
        "id": "IVUKVNmbzJ6c",
        "outputId": "f4e3c220-30b0-40d9-cbbd-b48076a9c4b0"
      },
      "execution_count": null,
      "outputs": [
        {
          "output_type": "stream",
          "name": "stdout",
          "text": [
            "('01/01/2021', 'Odemir', 30.0)\n",
            "('05/01/2021', 'Lucas', 30.0)\n",
            "('05/01/2021', 'Lucas', 14.0)\n",
            "('05/01/2021', 'Lucas', 14.0)\n",
            "('05/01/2021', 'Lucas', 16.0)\n",
            "('05/01/2021', 'Lucas', 19.0)\n",
            "('05/01/2021', 'Lucas', 13.0)\n",
            "('05/01/2021', 'Lucas', 12.0)\n",
            "('05/01/2021', 'Lucas', 14.0)\n",
            "('05/01/2021', 'Lucas', 14.0)\n",
            "('05/01/2021', 'Lucas', 13.0)\n"
          ]
        }
      ]
    },
    {
      "cell_type": "markdown",
      "source": [
        "12. SELECT TOP"
      ],
      "metadata": {
        "id": "twp8Yjwj0lkn"
      }
    },
    {
      "cell_type": "code",
      "source": [
        "# Usada para retornar 3 registros\n",
        "Consulta = Cursor.execute(\n",
        "    '''\n",
        "    SELECT * FROM Minha_Tabela\n",
        "    LIMIT 3\n",
        "\n",
        "'''\n",
        ").fetchall()\n",
        "print(Consulta)"
      ],
      "metadata": {
        "colab": {
          "base_uri": "https://localhost:8080/"
        },
        "id": "4H2RnT5A0qq8",
        "outputId": "287d5a1e-68ff-46df-e4d2-9ad11e522c51"
      },
      "execution_count": null,
      "outputs": [
        {
          "output_type": "stream",
          "name": "stdout",
          "text": [
            "[('01/01/2021', 'Odemir', 30.0), ('05/01/2021', 'Lucas', 30.0), ('05/01/2021', 'Lucas', 14.0)]\n"
          ]
        }
      ]
    },
    {
      "cell_type": "markdown",
      "source": [
        "13 . Min e Max"
      ],
      "metadata": {
        "id": "W8my_FYs-NTU"
      }
    },
    {
      "cell_type": "code",
      "source": [
        "# Retorna valores mínimo e máximo\n",
        "\n",
        "#Selecionando o valor mínimo\n",
        "Consulta = Cursor.execute(\n",
        "    '''\n",
        "    SELECT MIN (idade) FROM Minha_Tabela\n",
        "    '''\n",
        ").fetchall()\n",
        "#Mostrando o retorno\n",
        "print(Consulta)\n",
        "\n"
      ],
      "metadata": {
        "colab": {
          "base_uri": "https://localhost:8080/"
        },
        "id": "3qOdyUCZ-P-e",
        "outputId": "1d70099e-4c87-4ebb-98ee-0df520cd82c4"
      },
      "execution_count": null,
      "outputs": [
        {
          "output_type": "stream",
          "name": "stdout",
          "text": [
            "[(12.0,)]\n"
          ]
        }
      ]
    },
    {
      "cell_type": "code",
      "source": [
        "#Selecionando o valor máximo\n",
        "\n",
        "Consulta = Cursor.execute(\n",
        "    '''\n",
        "    SELECT MAX (idade) FROM Minha_Tabela\n",
        "    '''\n",
        ").fetchall()\n",
        "#Mostrando o retorno\n",
        "print(Consulta)\n"
      ],
      "metadata": {
        "colab": {
          "base_uri": "https://localhost:8080/"
        },
        "id": "X2Sbtpvs_g49",
        "outputId": "924368d2-3066-4122-8d57-8f9ad36fa495"
      },
      "execution_count": null,
      "outputs": [
        {
          "output_type": "stream",
          "name": "stdout",
          "text": [
            "[(30.0,)]\n"
          ]
        }
      ]
    },
    {
      "cell_type": "markdown",
      "source": [
        "14. COUNT, AVG , SUM"
      ],
      "metadata": {
        "id": "Lpdv4ze8Av9S"
      }
    },
    {
      "cell_type": "code",
      "source": [
        "#Conta os registros\n",
        "\n",
        "Consulta = Cursor.execute(\n",
        "    '''\n",
        "    SELECT COUNT (idade) FROM Minha_Tabela\n",
        "    '''\n",
        ").fetchall()\n",
        "#Mostrando o retorno\n",
        "print(Consulta)"
      ],
      "metadata": {
        "colab": {
          "base_uri": "https://localhost:8080/"
        },
        "id": "BNqu5JlLA5bx",
        "outputId": "23c504dc-013a-4d4d-b033-ea5ce60db3ec"
      },
      "execution_count": null,
      "outputs": [
        {
          "output_type": "stream",
          "name": "stdout",
          "text": [
            "[(11,)]\n"
          ]
        }
      ]
    },
    {
      "cell_type": "code",
      "source": [
        "# Calculo do valor medio\n",
        "\n",
        "Consulta = Cursor.execute(\n",
        "    '''\n",
        "    SELECT AVG(idade) FROM Minha_Tabela\n",
        "    '''\n",
        ").fetchall()\n",
        "#Mostrando o retorno\n",
        "print(Consulta)"
      ],
      "metadata": {
        "colab": {
          "base_uri": "https://localhost:8080/"
        },
        "id": "QgJTxiP5BAZK",
        "outputId": "ccddf880-2df7-4e9f-f8d7-4a51a576271b"
      },
      "execution_count": null,
      "outputs": [
        {
          "output_type": "stream",
          "name": "stdout",
          "text": [
            "[(17.181818181818183,)]\n"
          ]
        }
      ]
    },
    {
      "cell_type": "code",
      "source": [
        "#Calculo da Soma\n",
        "\n",
        "Consulta = Cursor.execute(\n",
        "    '''\n",
        "    SELECT SUM (idade) FROM Minha_Tabela\n",
        "    '''\n",
        ").fetchall()\n",
        "#Mostrando o retorno\n",
        "print(Consulta)"
      ],
      "metadata": {
        "colab": {
          "base_uri": "https://localhost:8080/"
        },
        "id": "bCJ3CCpvBFhs",
        "outputId": "e6048eab-28d2-4991-995c-228791986c71"
      },
      "execution_count": null,
      "outputs": [
        {
          "output_type": "stream",
          "name": "stdout",
          "text": [
            "[(189.0,)]\n"
          ]
        }
      ]
    },
    {
      "cell_type": "markdown",
      "source": [
        "15 . ALIASES"
      ],
      "metadata": {
        "id": "NTkJSzyYCT2d"
      }
    },
    {
      "cell_type": "code",
      "source": [
        "Consulta = Cursor.execute(\n",
        "    '''\n",
        "    SELECT Idade AS Ano_NASC  FROM Minha_Tabela\n",
        "    \n",
        "'''\n",
        ").fetchall()\n",
        "for Lista in Consulta :\n",
        "  print(Lista)\n"
      ],
      "metadata": {
        "colab": {
          "base_uri": "https://localhost:8080/"
        },
        "id": "64AjoKUKCaj9",
        "outputId": "76fb1f8d-23a3-4c8c-a9b1-641a04cd2b4c"
      },
      "execution_count": null,
      "outputs": [
        {
          "output_type": "stream",
          "name": "stdout",
          "text": [
            "(30.0,)\n",
            "(30.0,)\n",
            "(14.0,)\n",
            "(14.0,)\n",
            "(16.0,)\n",
            "(19.0,)\n",
            "(13.0,)\n",
            "(12.0,)\n",
            "(14.0,)\n",
            "(14.0,)\n",
            "(13.0,)\n"
          ]
        }
      ]
    }
  ]
}